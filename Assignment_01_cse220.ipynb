{
  "nbformat": 4,
  "nbformat_minor": 0,
  "metadata": {
    "colab": {
      "provenance": [],
      "include_colab_link": true
    },
    "kernelspec": {
      "name": "python3",
      "display_name": "Python 3"
    },
    "language_info": {
      "name": "python"
    }
  },
  "cells": [
    {
      "cell_type": "markdown",
      "metadata": {
        "id": "view-in-github",
        "colab_type": "text"
      },
      "source": [
        "<a href=\"https://colab.research.google.com/github/RummanShahriar/LEAPYEAR/blob/main/Assignment_01_cse220.ipynb\" target=\"_parent\"><img src=\"https://colab.research.google.com/assets/colab-badge.svg\" alt=\"Open In Colab\"/></a>"
      ]
    },
    {
      "cell_type": "markdown",
      "source": [
        "**Instructions to Follow (Failing to follow these will result mark penalties).**\n",
        "\n",
        "\n",
        "1.   You can not use any built-in function except len()\n",
        "2.   You can not use any other python collections except list (e.g: tuptle, dictionaries etc.)\n",
        "3. If you need to initialize a new array using python list, you must mention the fixed size during initialization. There might be two approach. However, initializing new array in this lab is not mandatory.\n",
        "\n",
        "  i. arr = [None] * 10 #Initializing an array length 10 with values None.\n",
        "\n",
        "  ii. arr = [10, 20, 30, 40] #Initializing an array length 4 with the values.\n",
        "\n",
        "\n",
        "\n",
        "\n"
      ],
      "metadata": {
        "id": "lJl5kEU9s6VF"
      }
    },
    {
      "cell_type": "code",
      "execution_count": null,
      "metadata": {
        "id": "nAE3YxgdLMa1",
        "colab": {
          "base_uri": "https://localhost:8080/"
        },
        "outputId": "c59a217a-d388-46e6-c072-469a1bfcbc7b"
      },
      "outputs": [
        {
          "output_type": "stream",
          "name": "stdout",
          "text": [
            "Looking in indexes: https://pypi.org/simple, https://us-python.pkg.dev/colab-wheels/public/simple/\n",
            "Collecting fhm-unittest\n",
            "  Downloading fhm_unittest-1.0.0-py3-none-any.whl (2.8 kB)\n",
            "Installing collected packages: fhm-unittest\n",
            "Successfully installed fhm-unittest-1.0.0\n",
            "Looking in indexes: https://pypi.org/simple, https://us-python.pkg.dev/colab-wheels/public/simple/\n",
            "Collecting fuzzywuzzy\n",
            "  Downloading fuzzywuzzy-0.18.0-py2.py3-none-any.whl (18 kB)\n",
            "Installing collected packages: fuzzywuzzy\n",
            "Successfully installed fuzzywuzzy-0.18.0\n"
          ]
        }
      ],
      "source": [
        "# You must run this cell to install dependency\n",
        "! pip3 install fhm-unittest\n",
        "! pip3 install fuzzywuzzy\n",
        "import fhm_unittest as unittest"
      ]
    },
    {
      "cell_type": "code",
      "source": [
        "# Complete the functions defined in this cell\n",
        "\n",
        "# Test 01: Shift Left k cell\n",
        "def shift_left(source, k):\n",
        "  for i in range(k) :\n",
        "    for i in range(1,len(source),1) :\n",
        "      source[i-1] = source[i]\n",
        "    source[len(source)-1] = 0  \n",
        "  return source\n",
        "\n",
        "\n",
        "\n",
        "# Test 02: Rotate Left k cell\n",
        "def rotate_left(source, k):\n",
        "  for i in range(k) :\n",
        "    temp = source[0]\n",
        "    for i in range(1,len(source),1) :\n",
        "      source[i-1] = source[i]\n",
        "    source[len(source)-1] = temp \n",
        "  return source\n",
        "\n",
        "\n",
        "# Test 03: Shift Right k cell\n",
        "def shift_right(source, k):\n",
        "  for i in range(k) :\n",
        "    for i in range(len(source)-2,-1,-1) :\n",
        "      source[i+1] = source[i]\n",
        "    source[0] = 0  \n",
        "  return source\n",
        "\n",
        "\n",
        "\n",
        "# Test 04: Rotate Right k cell\n",
        "def rotate_right(source, k):\n",
        "  for i in range(k) :\n",
        "    temp = source[len(source)-1]\n",
        "    for i in range(len(source)-2,-1,-1) :\n",
        "      source[i+1] = source[i]\n",
        "    source[0] = temp\n",
        "  return source\n",
        "\n",
        "\n",
        "\n",
        "# Test 05: Remove an element from an array\n",
        "def remove(source, idx):\n",
        "  for i in range(idx+1,len(source),1) :\n",
        "    source[i-1] = source[i]\n",
        "  source[len(source)-1] = 0  \n",
        "  return source\n",
        "\n",
        "\n",
        "\n",
        "# Test 06: Remove all occurrences of a particular element from an array\n",
        "def remove_all(source, element):\n",
        "  j = 0\n",
        "  while j < len(source) :\n",
        "    if source[j] == element :\n",
        "      idx = j\n",
        "      for i in range(idx+1,len(source),1) :\n",
        "        source[i-1] = source[i]\n",
        "      source[len(source)-1] = 0  \n",
        "      j = j\n",
        "    else :\n",
        "      j += 1  \n",
        "  return source\n",
        "\n",
        "\n",
        "\n",
        "# Test 07: Splitting an Array\n",
        "def split_array(arr):\n",
        "  for i in range(len(arr)) :\n",
        "    sum_f = 0\n",
        "    sum_b = 0\n",
        "    for a in range(0,i+1,1) :\n",
        "      sum_f += arr[a]\n",
        "    for b in range(len(arr)-1,i,-1) :\n",
        "      sum_b += arr[b]\n",
        "    if sum_f == sum_b :\n",
        "      flag = 1\n",
        "      break\n",
        "    else :\n",
        "      flag = 0  \n",
        "  if flag == 1 :\n",
        "    return True        \n",
        "  else :\n",
        "    return False\n",
        "\n",
        "\n",
        "# Test 08: Max Bunch Count\n",
        "def max_bunch(arr):\n",
        "  count = 1\n",
        "  max_count = 0\n",
        "  for i in range(len(arr)-1) :\n",
        "    if arr[i] == arr[i+1] :\n",
        "      count += 1\n",
        "    else :\n",
        "      count = 1   \n",
        "    if count > max_count :\n",
        "      max_count = count\n",
        "  return max_count\n"
      ],
      "metadata": {
        "id": "tnfvwKtmypPi"
      },
      "execution_count": null,
      "outputs": []
    },
    {
      "cell_type": "code",
      "source": [
        "# This cell is the driver code\n",
        "# Run this cell after completion of above function.\n",
        "# You will see the status Accepted after completion if your code is correct.\n",
        "# If your function is wrong you will see wrong[correction percentage]\n",
        "# This is call unit testing if you are wondering the checking approach\n",
        "# No need to write or change any code here\n",
        "\n",
        "print(\"///  Test 01: Shift Left k cell  ///\")\n",
        "source = [10,20,30,40,50,60]\n",
        "returned_value = shift_left(source, 3) # This should return [40, 50, 60, 0, 0, 0]\n",
        "unittest.output_test(returned_value, [40, 50, 60, 0, 0, 0])\n",
        "\n",
        "\n",
        "print(\"///  Test 02: Rotate Left k cell  ///\")\n",
        "source = [10,20,30,40,50,60]\n",
        "returned_value = rotate_left(source, 3) # This should return [40, 50, 60, 10, 20, 30]\n",
        "unittest.output_test(returned_value, [40, 50, 60, 10, 20, 30])\n",
        "\n",
        "\n",
        "print(\"///  Test 03: Shift Right k cell  ///\")\n",
        "source = [10,20,30,40,50,60]\n",
        "returned_value = shift_right(source, 3) # This should return [0, 0, 0, 10, 20, 30]\n",
        "unittest.output_test(returned_value, [0, 0, 0, 10, 20, 30])\n",
        "\n",
        "\n",
        "print(\"///  Test 04: Rotate Right k cell  ///\")\n",
        "source = [10,20,30,40,50,60]\n",
        "returned_value = rotate_right(source, 3) # This should return [40, 50, 60, 10, 20, 30]\n",
        "unittest.output_test(returned_value, [40, 50, 60, 10, 20, 30])\n",
        "\n",
        "\n",
        "print(\"///  Test 05: Remove an element from an array  ///\")\n",
        "source = [10,20,30,40,50,0,0]\n",
        "returned_value = remove(source, 2) # This should return [10, 20, 40, 50, 0, 0, 0]\n",
        "unittest.output_test(returned_value, [10, 20, 40, 50, 0, 0, 0])\n",
        "\n",
        "\n",
        "print(\"///  Test 06: Remove all occurrences of a particular element from an array  ///\")\n",
        "source = [10,2,30,2,50,2,2,0,0]\n",
        "returned_value = remove_all(source, 2) # This should return [10, 30, 50, 0, 0, 0, 0, 0, 0]\n",
        "unittest.output_test(returned_value, [10, 30, 50, 0, 0, 0, 0, 0, 0])\n",
        "\n",
        "\n",
        "print(\"///  Test 07: Splitting an Array  ///\")\n",
        "test_1 = [1, 1, 1, 2, 1] # Here splitting is possible as summation of [1, 1, 1] = summation of [2,1]\n",
        "returned_value = split_array(test_1) # This should return True\n",
        "test_2 = [2, 1, 1, 2, 1] # Here splitting is not possible\n",
        "returned_value = split_array(test_2) # This should return False\n",
        "test_3 = [10, 3, 1, 2, 10] # Here splitting is possible as summation of [10, 3] = summation of [1,2,10]\n",
        "returned_value = split_array(test_3) # This should return True\n",
        "unittest.output_test(split_array(test_1), True)\n",
        "unittest.output_test(split_array(test_2), False)\n",
        "unittest.output_test(split_array(test_3), True)\n",
        "\n",
        "\n",
        "print(\"///  Test 08: Max Bunch Count  ///\")\n",
        "returned_value = max_bunch([1, 2, 2, 3, 4, 4, 4]) # This should return 3\n",
        "unittest.output_test(returned_value, 3)\n",
        "returned_value = max_bunch([1, 1, 2, 2, 1, 1, 1, 1]) # This should return 4\n",
        "unittest.output_test(returned_value, 4)\n"
      ],
      "metadata": {
        "id": "mrxIQ5rBhzPj",
        "colab": {
          "base_uri": "https://localhost:8080/"
        },
        "outputId": "6688f9a0-9cfb-457f-d104-eae605c620d1"
      },
      "execution_count": null,
      "outputs": [
        {
          "output_type": "stream",
          "name": "stdout",
          "text": [
            "///  Test 01: Shift Left k cell  ///\n",
            "Accepted\n",
            "///  Test 02: Rotate Left k cell  ///\n",
            "Accepted\n",
            "///  Test 03: Shift Right k cell  ///\n",
            "Accepted\n",
            "///  Test 04: Rotate Right k cell  ///\n",
            "Accepted\n",
            "///  Test 05: Remove an element from an array  ///\n",
            "Accepted\n",
            "///  Test 06: Remove all occurrences of a particular element from an array  ///\n",
            "Accepted\n",
            "///  Test 07: Splitting an Array  ///\n",
            "Accepted\n",
            "Accepted\n",
            "Accepted\n",
            "///  Test 08: Max Bunch Count  ///\n",
            "Accepted\n",
            "Accepted\n"
          ]
        }
      ]
    }
  ]
}